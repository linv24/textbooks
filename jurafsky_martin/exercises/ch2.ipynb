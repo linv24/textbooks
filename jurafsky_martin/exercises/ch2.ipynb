{
 "cells": [
  {
   "cell_type": "code",
   "execution_count": null,
   "metadata": {},
   "outputs": [],
   "source": [
    "# 2.1\n",
    "\n",
    "# 1. \\b\\w+\\b\n",
    "# 2. \\b[a-z]*b\\b\n",
    "# 3. \\bb*(bab)b**\\b"
   ]
  }
 ],
 "metadata": {
  "language_info": {
   "name": "python"
  },
  "orig_nbformat": 4
 },
 "nbformat": 4,
 "nbformat_minor": 2
}
