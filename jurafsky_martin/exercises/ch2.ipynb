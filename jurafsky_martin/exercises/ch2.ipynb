{
 "cells": [
  {
   "attachments": {},
   "cell_type": "markdown",
   "metadata": {},
   "source": [
    "## 2.1\n",
    "\n",
    "1. \\b\\w+\\b\n",
    "2. \\b[a-z]*b\\b\n",
    "3. \\bb*(bab)b**\\b"
   ]
  },
  {
   "attachments": {},
   "cell_type": "markdown",
   "metadata": {},
   "source": [
    "## 2.2\n",
    "\n",
    "Skipping, don't need regex practice"
   ]
  },
  {
   "attachments": {},
   "cell_type": "markdown",
   "metadata": {},
   "source": [
    "## 2.4\n",
    "\n",
    "To compute a cell, using the Levenshtein distance with sub-cost = 2, take the shortest distance of row above + 1, col left + 1, or diag up-left + 2. If same letter, same as 0-cost substitution\n",
    "\n",
    "| s\\t | # | d | e | a | l |\n",
    "|-|-|-|-|-|-|\n",
    "| # | 0 | 1 | 2 | 3 | 4 |\n",
    "| l | 1 | 2 | 3 | 4 | 3 |\n",
    "| e | 2 | 3 | 2 | 3 | 4 |\n",
    "| d | 3 | 2 | 3 | 4 | 5 |\n",
    "| a | 4 | 3 | 4 | 3 | 4 |"
   ]
  },
  {
   "attachments": {},
   "cell_type": "markdown",
   "metadata": {},
   "source": [
    "## 2.6"
   ]
  },
  {
   "cell_type": "code",
   "execution_count": 3,
   "metadata": {},
   "outputs": [
    {
     "name": "stdout",
     "output_type": "stream",
     "text": [
      "intention => execution\n",
      "8.0\n",
      "\n",
      "leda => deal\n",
      "[[0. 1. 2. 3. 4.]\n",
      " [1. 2. 3. 4. 3.]\n",
      " [2. 3. 2. 3. 4.]\n",
      " [3. 2. 3. 4. 5.]\n",
      " [4. 3. 4. 3. 4.]]\n"
     ]
    }
   ],
   "source": [
    "import numpy as np\n",
    "\n",
    "# Cost functions\n",
    "def del_cost(char):\n",
    "    return 1\n",
    "\n",
    "def ins_cost(char):\n",
    "    return 1\n",
    "\n",
    "def sub_cost(char1, char2):\n",
    "    return del_cost(char1) + ins_cost(char2) if char1 != char2 else 0\n",
    "\n",
    "# Distance function\n",
    "def compute_edit_distance(source, target, del_cost=del_cost, ins_cost=ins_cost, sub_cost=sub_cost, table=False):\n",
    "    n, m = len(source), len(target)\n",
    "    # Initialize D, where D[i,j] is the substring at source[i] and target[j]\n",
    "    # (1-indexed, since index 0 is empty string)\n",
    "    D = np.zeros((n+1, m+1))\n",
    "    for i in range(1, n+1):\n",
    "        D[i,0] = D[i-1,0] + 1\n",
    "    for j in range(1, m+1):\n",
    "        D[0,j] = D[0,j-1] + 1\n",
    "        \n",
    "    for i in range(1, n+1):\n",
    "        for j in range(1, m+1):\n",
    "            D[i,j] = min(\n",
    "                # Index into source and target must be decremented bc i, j are 1-indexed\n",
    "                D[i-1,j] + del_cost(source[i-1]),               # deletion\n",
    "                D[i,j-1] + ins_cost(target[j-1]),               # insertion\n",
    "                D[i-1,j-1] + sub_cost(source[i-1], target[j-1]) # substitution \n",
    "            )\n",
    "    \n",
    "    if table:\n",
    "        return D\n",
    "    else: \n",
    "        # D[n,m] is the final edit distance \n",
    "        return D[n,m]\n",
    "\n",
    "print('intention => execution')\n",
    "print(compute_edit_distance('intention', 'execution'))\n",
    "print()\n",
    "print('leda => deal')\n",
    "print(compute_edit_distance('leda', 'deal', table=True))"
   ]
  },
  {
   "attachments": {},
   "cell_type": "markdown",
   "metadata": {},
   "source": [
    "## 2.7"
   ]
  },
  {
   "cell_type": "code",
   "execution_count": 44,
   "metadata": {},
   "outputs": [
    {
     "name": "stdout",
     "output_type": "stream",
     "text": [
      "intention => execution\n",
      "[[ 0.  1.  2.  3.  4.  5.  6.  7.  8.  9.]\n",
      " [ 1.  2.  3.  4.  5.  6.  7.  6.  7.  8.]\n",
      " [ 2.  3.  4.  5.  6.  7.  8.  7.  8.  7.]\n",
      " [ 3.  4.  5.  6.  7.  8.  7.  8.  9.  8.]\n",
      " [ 4.  3.  4.  5.  6.  7.  8.  9. 10.  9.]\n",
      " [ 5.  4.  5.  6.  7.  8.  9. 10. 11. 10.]\n",
      " [ 6.  5.  6.  7.  8.  9.  8.  9. 10. 11.]\n",
      " [ 7.  6.  7.  8.  9. 10.  9.  8.  9. 10.]\n",
      " [ 8.  7.  8.  9. 10. 11. 10.  9.  8.  9.]\n",
      " [ 9.  8.  9. 10. 11. 12. 11. 10.  9.  8.]]\n",
      "[['' '←' '←' '←' '←' '←' '←' '←' '←' '←']\n",
      " ['↑' '↑←↖' '↑←↖' '↑←↖' '↑←↖' '↑←↖' '↑←↖' '↖' '←' '←']\n",
      " ['↑' '↑←↖' '↑←↖' '↑←↖' '↑←↖' '↑←↖' '↑←↖' '↑' '↑←↖' '↖']\n",
      " ['↑' '↑←↖' '↑←↖' '↑←↖' '↑←↖' '↑←↖' '↖' '↑←' '↑←↖' '↑']\n",
      " ['↑' '↖' '←' '←↖' '←' '←' '↑←' '↑←↖' '↑←↖' '↑']\n",
      " ['↑' '↑' '↑←↖' '↑←↖' '↑←↖' '↑←↖' '↑←↖' '↑←↖' '↑←↖' '↑↖']\n",
      " ['↑' '↑' '↑←↖' '↑←↖' '↑←↖' '↑←↖' '↖' '←' '←' '↑←']\n",
      " ['↑' '↑' '↑←↖' '↑←↖' '↑←↖' '↑←↖' '↑' '↖' '←' '←']\n",
      " ['↑' '↑' '↑←↖' '↑←↖' '↑←↖' '↑←↖' '↑' '↑' '↖' '←']\n",
      " ['↑' '↑' '↑←↖' '↑←↖' '↑←↖' '↑←↖' '↑' '↑' '↑' '↖']]\n",
      "[(9, 9), (8, 8), (7, 7), (6, 6), (5, 5), (5, 4), (4, 3), (3, 2), (2, 2), (1, 1), (0, 0)]\n"
     ]
    }
   ],
   "source": [
    "# Alignment\n",
    "def compute_alignment(source, target, del_cost=del_cost, ins_cost=ins_cost, sub_cost=sub_cost, table=False):\n",
    "    n, m = len(source), len(target)\n",
    "    # Initialize D, where D[i,j] is the substring at source[i] and target[j]\n",
    "    # (1-indexed, since index 0 is empty string)\n",
    "    D = np.zeros((n+1, m+1))\n",
    "    A = np.empty((n+1, m+1), dtype=(np.str_, 3))\n",
    "    for i in range(1, n+1):\n",
    "        D[i,0] = D[i-1,0] + 1\n",
    "        A[i,0] = \"↑\"\n",
    "    for j in range(1, m+1):\n",
    "        D[0,j] = D[0,j-1] + 1\n",
    "        A[0,j] = \"←\"\n",
    "        \n",
    "    # Compute distance and arrow matrices\n",
    "    for i in range(1, n+1):\n",
    "        for j in range(1, m+1):\n",
    "            del_dist = D[i-1,j] + del_cost(source[i-1])\n",
    "            ins_dist = D[i,j-1] + ins_cost(target[j-1])\n",
    "            sub_dist = D[i-1,j-1] + sub_cost(source[i-1], target[j-1])\n",
    "            min_dist = min(del_dist, ins_dist, sub_dist)\n",
    "            \n",
    "            arrows = \"\"\n",
    "            if del_dist == min_dist:\n",
    "                arrows += \"↑\"\n",
    "            if ins_dist == min_dist:\n",
    "                arrows += \"←\"\n",
    "            if sub_dist == min_dist:\n",
    "                arrows += \"↖\"\n",
    "                \n",
    "            D[i,j] = min_dist\n",
    "            A[i,j] = arrows\n",
    "            \n",
    "    # Backtrace, return first shortest path\n",
    "    source = (n,m)\n",
    "    target = (0,0)\n",
    "    queue = [[source]]\n",
    "    seen = set()\n",
    "    \n",
    "    ix = 0\n",
    "    path = None\n",
    "    while ix < len(queue):\n",
    "        path = queue[ix]\n",
    "        ix += 1\n",
    "        curr_node = path[-1]\n",
    "        if curr_node in seen:\n",
    "            continue\n",
    "        seen.add(curr_node)\n",
    "        if curr_node == target:\n",
    "            break\n",
    "        # Add children to queue\n",
    "        i, j = curr_node[0], curr_node[1]\n",
    "        if \"↑\" in A[i,j]:\n",
    "            queue.append(path + [(i-1,j)])\n",
    "        if \"←\" in A[i,j]:\n",
    "            queue.append(path + [(i,j-1)])\n",
    "        if \"↖\" in A[i,j]:\n",
    "            queue.append(path + [(i-1,j-1)])\n",
    "    \n",
    "    if table:\n",
    "        return D, A, path\n",
    "    else: \n",
    "        # D[n,m] is the final edit distance \n",
    "        return D[n,m], A[n,m], path\n",
    "    \n",
    "print('intention => execution') \n",
    "for i in compute_alignment('intention', 'execution', table=True):\n",
    "    print(i)"
   ]
  }
 ],
 "metadata": {
  "kernelspec": {
   "display_name": "Python 3",
   "language": "python",
   "name": "python3"
  },
  "language_info": {
   "codemirror_mode": {
    "name": "ipython",
    "version": 3
   },
   "file_extension": ".py",
   "mimetype": "text/x-python",
   "name": "python",
   "nbconvert_exporter": "python",
   "pygments_lexer": "ipython3",
   "version": "3.11.2"
  },
  "orig_nbformat": 4
 },
 "nbformat": 4,
 "nbformat_minor": 2
}
