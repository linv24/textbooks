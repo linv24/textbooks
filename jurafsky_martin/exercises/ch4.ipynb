{
 "cells": [
  {
   "attachments": {},
   "cell_type": "markdown",
   "metadata": {},
   "source": [
    "## 4.1"
   ]
  },
  {
   "attachments": {},
   "cell_type": "markdown",
   "metadata": {},
   "source": [
    "## 4.2"
   ]
  },
  {
   "cell_type": "code",
   "execution_count": 67,
   "metadata": {},
   "outputs": [
    {
     "name": "stdout",
     "output_type": "stream",
     "text": [
      "      word comedy action\n",
      "0  furious   1/16   3/18\n",
      "1     fast   2/16   3/18\n",
      "2      fly   2/16   2/18\n",
      "3   couple   3/16   1/18\n",
      "4      fun   4/16   2/18\n",
      "5     love   3/16   2/18\n",
      "6    shoot   1/16   5/18\n",
      "prediction: action\n"
     ]
    }
   ],
   "source": [
    "from collections import defaultdict\n",
    "import numpy as np\n",
    "import pandas as pd\n",
    "import re\n",
    "\n",
    "def get_naive_bayes_estimate(train_set, test_set, print_table=False):\n",
    "    # train_set list of tups of form (x, y) where x = comma-separated review, y = label\n",
    "    # test_set just a review\n",
    "    \n",
    "    # Create bag of words for each class\n",
    "    # class_to_docs maps class to list of list of words for each doc of class \n",
    "    # class_to_vocab maps class to set of class vocab\n",
    "    class_to_docs = defaultdict(list)\n",
    "    class_to_vocab = defaultdict(set)\n",
    "    total_vocab = set()\n",
    "    for d, c in train_set:\n",
    "        words = [w.lower().strip() for w in re.split(',\\s*| ', d)]\n",
    "        class_to_docs[c].append(words)\n",
    "        class_to_vocab[c].update(words)\n",
    "        total_vocab.update(words)\n",
    "    \n",
    "    # Get class estimates \n",
    "    argmax = None\n",
    "    for c in class_to_docs:\n",
    "        p_c = np.log(len(class_to_docs[c]) / len(train_set))\n",
    "        p_dc = 0\n",
    "        test_words = [w.lower().strip() for w in re.split(',\\s*| ', test_set)]\n",
    "        for w in test_words:\n",
    "            # Throw out words not in training\n",
    "            if w not in total_vocab:\n",
    "                continue\n",
    "            # Add-1 smoothing \n",
    "            class_count = sum(words.count(w) for words in class_to_docs[c]) + 1\n",
    "            class_total = sum(len(words) for words in class_to_docs[c]) + len(total_vocab)\n",
    "            p_dc += np.log(class_count / class_total)\n",
    "        c_estimate = p_c + p_dc\n",
    "        if argmax is None or c_estimate > argmax[1]:\n",
    "            argmax = (c, c_estimate)\n",
    "    \n",
    "    if print_table:\n",
    "        table = pd.DataFrame([], columns=['word']+list(class_to_docs.keys()))\n",
    "        for w in total_vocab:\n",
    "            row = [w]\n",
    "            for c in class_to_docs.keys():\n",
    "                class_count = sum(words.count(w) for words in class_to_docs[c]) + 1\n",
    "                class_total = sum(len(words) for words in class_to_docs[c]) + len(total_vocab)\n",
    "                row.append(f'{class_count}/{class_total}')\n",
    "                # row.append(class_count / class_total)\n",
    "            table.loc[len(table)] = row\n",
    "        print(table)\n",
    "    \n",
    "    return argmax[0]\n",
    "\n",
    "train_set = [\n",
    "    ('fun, couple, love, love', 'comedy'),\n",
    "    ('fast, furious, shoot', 'action'),\n",
    "    ('couple, fly, fast, fun, fun', 'comedy'),\n",
    "    ('furious, shoot, shoot, fun', 'action'),\n",
    "    ('fly, fast, shoot, love', 'action')\n",
    "]\n",
    "test_set = 'fast, couple, shoot, fly'\n",
    "print('prediction:', get_naive_bayes_estimate(train_set, test_set, print_table=True))"
   ]
  },
  {
   "attachments": {},
   "cell_type": "markdown",
   "metadata": {},
   "source": [
    "## 4.3"
   ]
  },
  {
   "cell_type": "code",
   "execution_count": 68,
   "metadata": {},
   "outputs": [
    {
     "name": "stdout",
     "output_type": "stream",
     "text": [
      "    word   pos    neg\n",
      "0  great  6/12   3/17\n",
      "1   poor  2/12  11/17\n",
      "2   good  4/12   3/17\n",
      "multinomial: pos\n",
      "    word  pos  neg\n",
      "0  great  3/7  2/9\n",
      "1   poor  2/7  4/9\n",
      "2   good  2/7  3/9\n",
      "binary: neg\n"
     ]
    }
   ],
   "source": [
    "docs = [\n",
    "    ([3,0,3], 'pos'),\n",
    "    ([0,1,2], 'pos'),\n",
    "    ([1,3,0], 'neg'),\n",
    "    ([1,5,2], 'neg'),\n",
    "    ([0,2,0], 'neg')\n",
    "]\n",
    "\n",
    "multi_train_set = []\n",
    "for d in docs:\n",
    "    words = d[0]\n",
    "    multi_train_set.append((\n",
    "        ','.join(\n",
    "                ['good'] * d[0][0] + \n",
    "                ['poor'] * d[0][1] +\n",
    "                ['great'] * d[0][2]\n",
    "            ),\n",
    "        d[1]\n",
    "    ))\n",
    "    \n",
    "bin_train_set = []\n",
    "for d in docs:\n",
    "    words = d[0]\n",
    "    bin_train_set.append((\n",
    "        ','.join(set(\n",
    "                ['good'] * d[0][0] + \n",
    "                ['poor'] * d[0][1] +\n",
    "                ['great'] * d[0][2]\n",
    "        )),\n",
    "        d[1]\n",
    "    ))\n",
    "    \n",
    "test_set = 'A good, good plot and great characters, but poor acting'\n",
    "\n",
    "print('multinomial:', get_naive_bayes_estimate(multi_train_set, test_set, print_table=True))\n",
    "print('binary:', get_naive_bayes_estimate(bin_train_set, test_set, print_table=True))\n",
    "\n",
    "# Disagreeing output"
   ]
  }
 ],
 "metadata": {
  "kernelspec": {
   "display_name": "Python 3",
   "language": "python",
   "name": "python3"
  },
  "language_info": {
   "codemirror_mode": {
    "name": "ipython",
    "version": 3
   },
   "file_extension": ".py",
   "mimetype": "text/x-python",
   "name": "python",
   "nbconvert_exporter": "python",
   "pygments_lexer": "ipython3",
   "version": "3.11.2"
  },
  "orig_nbformat": 4
 },
 "nbformat": 4,
 "nbformat_minor": 2
}
